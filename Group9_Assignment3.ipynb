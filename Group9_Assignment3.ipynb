{
 "cells": [
  {
   "cell_type": "markdown",
   "metadata": {},
   "source": [
    "# Question 1\n",
    "***\n",
    "Implement a sliding window for an arbitrary input list. \n",
    "\n",
    "The function should take the window width and the window increment as inputs and should produce a sequence of overlapping lists from the input list. \n",
    "\n",
    "For example, given `x=list(range(15))`, the following is the output given a window width of `5` and window increment of `2`.\n",
    "\n",
    "$$\\begin{matrix}\n",
    "[[ 0, & 1, & 2, & 3, & 4 ] \\\\ [ 2, & 3, & 4, & 5, & 6 ] \\\\ [ 4, & 5, & 6, & 7, & 8 ] \\\\ [ 6, & 7, & 8, & 9, & 10 ] \\\\ [ 8, & 9, & 10, & 11, & 12 ] \\\\ [ 10, & 11, & 12, & 13, & 14 ]]\n",
    "\\end{matrix}$$\n",
    "\n",
    "In the event that the input parameters do not yield a complete set of even sublists, just truncate the ragged tail. \n",
    "\n",
    "For example, `slide_window(list(range(18)),5,2)`\n",
    "\n",
    "$$\\begin{matrix}\n",
    "[[ 0, & 1, & 2, & 3, & 4 ] \\\\ [ 2, & 3, & 4, & 5, & 6 ] \\\\ [ 4, & 5, & 6, & 7, & 8 ] \\\\ [ 6, & 7, & 8, & 9, & 10 ] \\\\ [ 8, & 9, & 10, & 11, & 12 ] \\\\ [ 10, & 11, & 12, & 13, & 14 ] \\\\ [ 12, & 13, & 14, & 15, & 16 ]]\n",
    "\\end{matrix}$$\n",
    "\n",
    "Here is the function signature: `slide_window(x,width,increment)` where increment > 0, width > 0, and x is a list. \n",
    "***"
   ]
  },
  {
   "cell_type": "markdown",
   "metadata": {},
   "source": [
    "`Validation Test:`"
   ]
  },
  {
   "cell_type": "code",
   "execution_count": null,
   "metadata": {},
   "outputs": [],
   "source": [
    "assert isinstance(x,list)\n",
    "assert isinstance(width,int) \n",
    "assert width > 0\n",
    "assert len(x) >= width > 0\n",
    "assert isinstance(increment,int) \n",
    "assert increment > 0"
   ]
  },
  {
   "cell_type": "markdown",
   "metadata": {},
   "source": [
    "`Functional Test:`"
   ]
  },
  {
   "cell_type": "code",
   "execution_count": null,
   "metadata": {},
   "outputs": [],
   "source": [
    "# check truncate of extra terms\n",
    "assert [[0, 1, 2, 3, 4], [2, 3, 4, 5, 6], [4, 5, 6, 7, 8], [6, 7, 8, 9, 10], [\n",
    "8, 9, 10, 11, 12], [10, 11, 12, 13, 14], [12, 13, 14, 15, 16], [14, 15, 16, 17, 18]] == slide_window(\n",
    "list(range(20)), 5, 2)\n",
    "\n",
    "# check output is same'\n",
    "assert [[0, 1, 2, 3, 4], [2, 3, 4, 5, 6], [4, 5, 6, 7, 8], [6, 7, 8, 9, 10], [\n",
    "8, 9, 10, 11, 12], [10, 11, 12, 13, 14], [12, 13, 14, 15, 16], [14, 15, 16, 17, 18]] == slide_window(\n",
    "list(range(19)), 5, 2)\n",
    "\n",
    "# check for the case that list have none-numeric elements\n",
    "assert [[1, 2, 'c'], ['a', 'r', 6], [7, 8, 9]] == slid_window([1, 2, 'c', 'a', 'r', 6, 7, 8, 9, 10] , 3, 3) "
   ]
  },
  {
   "cell_type": "markdown",
   "metadata": {},
   "source": [
    "# Question 2\n",
    "***\n",
    "The Fibonacci numbers are defined by the following recursion:\n",
    "\n",
    "$$\\begin{equation}\n",
    "F[n] = F[n-1]+F[n-2]\n",
    "\\end{equation}$$\n",
    "\n",
    "with initial values $$\\begin{equation}F[1]=F[0]=1\\end{equation}$$\n",
    "\n",
    "Write a generator to compute the first n Fibonacci numbers. \n",
    "\n",
    "For example, for `n=10`, the output for `list(fibonacci(n))` should be \n",
    "$$\\begin{matrix}\n",
    "[1,&1,&2,&3,&5,&8,&13,&21,&34,&55]\n",
    "\\end{matrix}$$\n",
    "***"
   ]
  },
  {
   "cell_type": "markdown",
   "metadata": {},
   "source": [
    "`Validation Tests:`"
   ]
  },
  {
   "cell_type": "code",
   "execution_count": null,
   "metadata": {},
   "outputs": [],
   "source": [
    "assert n >= 0 \n",
    "assert isinstance(n,int)"
   ]
  },
  {
   "cell_type": "markdown",
   "metadata": {},
   "source": [
    "`Functional Test:`"
   ]
  },
  {
   "cell_type": "code",
   "execution_count": null,
   "metadata": {},
   "outputs": [],
   "source": [
    "# check if it is a generator\n",
    "a = fibonacci(5)\n",
    "assert next(a) ==1\n",
    "assert next(a) ==1\n",
    "assert next(a) ==2\n",
    "assert list(fibonacci(0)) == [1]\n",
    "\n",
    "# check a problem example\n",
    "assert [1, 1, 2, 3, 5, 8, 13, 21, 34, 55] == list(fibonacci(n=10)) "
   ]
  },
  {
   "cell_type": "markdown",
   "metadata": {},
   "source": [
    "# Question 3\n",
    "***\n",
    "Write a function that returns the number of calendar days in a given year and month. \n",
    "\n",
    "Hint: see the calendar module in the standard library. \n",
    "\n",
    "`number_of_days(year,month) `\n",
    "\n",
    "Write a function to find the number of leap-years between (including both endpoints) two given years. \n",
    "\n",
    "`number_of_leap_years(year1,year2)`\n",
    "\n",
    "Write a function to find the string name (e.g., Monday, Tuesday) of the day of the week on a given month,day, and year. \n",
    "\n",
    "`get_day_of_week(year,month,day)`\n",
    "***"
   ]
  },
  {
   "cell_type": "markdown",
   "metadata": {},
   "source": [
    "`Validation Tests:`"
   ]
  },
  {
   "cell_type": "code",
   "execution_count": null,
   "metadata": {},
   "outputs": [],
   "source": [
    "# number_of_days validation\n",
    "assert isinstance(year,int) \n",
    "assert year >=0\n",
    "assert isinstance(month,int) \n",
    "assert 1<=month<=12\n",
    "\n",
    "# number_of_leap_years validation\n",
    "assert isinstance(year1,int) \n",
    "assert isinstance(year2,int)\n",
    "assert year2>=year1 >=0\n",
    "\n",
    "# get_day_of_week validation\n",
    "assert isinstance(year,int) \n",
    "assert year >=0\n",
    "assert isinstance(month,int) \n",
    "assert 1<=month<=12\n",
    "assert isinstance(day,int) \n",
    "assert 1<= day <=number_of_days(year,month)"
   ]
  },
  {
   "cell_type": "markdown",
   "metadata": {},
   "source": [
    "`Functional Test:`"
   ]
  },
  {
   "cell_type": "code",
   "execution_count": null,
   "metadata": {},
   "outputs": [],
   "source": [
    "assert number_of_days(50,12) == 31\n",
    "assert number_of_days(0,1) == 31\n",
    "assert number_of_days(2000,2) == 29\n",
    "\n",
    "assert number_of_leap_years(2000,2020) == 6\n",
    "assert number_of_leap_years(0,2020) == 491\n",
    "assert number_of_leap_years(0,4020) == 976\n",
    "\n",
    "assert get_day_of_week(0,2,29) == 'Tuesday'\n",
    "assert get_day_of_week(2000,2,29) == 'Tuesday'\n",
    "assert get_day_of_week(2001,2,28) == 'Wednesday'\n",
    "assert get_day_of_week(2020,12,25) == 'Friday'"
   ]
  },
  {
   "cell_type": "markdown",
   "metadata": {},
   "source": [
    "# Question 4\n",
    "***\n",
    "The code below defines a generator that returns the duration of its lifetime when called.\n",
    "\n",
    "<code>\n",
    "\n",
    "    from time import sleep\n",
    "    import random\n",
    "    from datetime import datetime\n",
    "    import itertools as it\n",
    "    def producer():\n",
    "     'produce timestamps'\n",
    "     starttime = datetime.now()\n",
    "     while True:\n",
    "         sleep(random.uniform(0,0.2))\n",
    "         yield datetime.now()-starttime\n",
    "\n",
    "</code>\n",
    "\n",
    "For example\n",
    "\n",
    "<code>\n",
    "    \n",
    "    >>> p = producer()\n",
    "    >>> next(p)\n",
    "    datetime.timedelta(0, 0, 106641)\n",
    "    \n",
    "</code>\n",
    "\n",
    "Note that the output of `producer` has a `seconds` attribute. Write a generator that tracks the output of this `producer` and ultimately returns the number of odd numbered seconds that have been iterated over. The usage pattern is the following,\n",
    "\n",
    "<code>\n",
    "    \n",
    "    >>> t = tracker(p,limit=2)\n",
    "    >>> next(t)\n",
    "    1\n",
    "    >>> list( tracker(p,limit=2))\n",
    "    [1,2]\n",
    "    \n",
    "</code>\n",
    "\n",
    "The `limit` keyword argument is the number of odd-numbered seconds to track until completion.\n",
    "\n",
    "<code>\n",
    "    \n",
    "    >>> list( tracker(p,limit=5))\n",
    "    [0, 0, 0, 0, 0, 0, 1, 2, 3, 4, 5]\n",
    "    \n",
    "</code>\n",
    "\n",
    "The last line is interesting because is shows that the producer's `seconds` value output was an even number for the first six iterations. Your `tracker` generator should also receive input that changes the existing limit,\n",
    "\n",
    "<code>\n",
    "    \n",
    "    >>> t = tracker(p,limit=3)\n",
    "    >>> next(t)\n",
    "    0\n",
    "    >>> next(t)\n",
    "    0\n",
    "    >>> t.send(5)\n",
    "    1\n",
    "    >>> list(t)\n",
    "    [1, 1, 1, 1, 2, 3, 4, 5]\n",
    "    \n",
    "</code>\n",
    "\n",
    "Please put your Python code in a Python script file and upload it. Please retain your submitted source files! Remember to use all the best practices we discussed in class. You can use any module in the Python standard library, but third-party modules (e.g., Numpy, Pandas) are restricted to those explicitly mentioned in the problem description.\n",
    "\n",
    "After you have submitted your file, do not use the browser back or reload buttons to navigate or open the page in multiple browser tabs, as this may cause your `attempts` to decrease unexpectedly. It may take up to thirty seconds for your code to be processed, so please be **patient**.\n",
    "\n",
    "Good luck!\n",
    "***"
   ]
  },
  {
   "cell_type": "markdown",
   "metadata": {},
   "source": [
    "`Validation Tests:`"
   ]
  },
  {
   "cell_type": "code",
   "execution_count": null,
   "metadata": {},
   "outputs": [],
   "source": [
    "# import types to check if input p is a generator\n",
    "import types\n",
    "assert isinstance(p,types.GeneratorType)\n",
    "assert isinstance(limit,int) \n",
    "assert limit > 0 "
   ]
  },
  {
   "cell_type": "markdown",
   "metadata": {},
   "source": [
    "`Functional Tests:`"
   ]
  },
  {
   "cell_type": "code",
   "execution_count": null,
   "metadata": {},
   "outputs": [],
   "source": [
    "# checking the largest count number\n",
    "p =producer()\n",
    "a = list(tracker(p, 3))\n",
    "assert max(a) == 3\n",
    "\n",
    "p =producer()\n",
    "a = tracker(p, 3)\n",
    "a.send(4)\n",
    "assert max(list(a)) == 4\n",
    "\n",
    "# more test\n",
    "assert 1 == list(tracker(p, limit=3)).count(1) # 'check that only one 1 is resulted'\n",
    "assert 1 == list(tracker(p, limit=3)).count(2) #'check that only one 2 is resulted'\n",
    "assert 1 == list(tracker(p, limit=3)).count(3) #'check that only one 3 is resulted'\n",
    "assert 1 == list(tracker(p, limit=3)).count(4) #'check that only one 1 is resulted'\n",
    "assert 1 == list(tracker(p, limit=3)).count(5) #'check that only one 2 is resulted'\n",
    "assert 1 == list(tracker(p, limit=3)).count(6) #'check that only one 3 is resulted'\n",
    "assert {0, 1, 2, 3, 4, 5, 6} == set([0]+list(t)) #'check .send can modify limit within loop' \n",
    "assert 1 == list(tracker(p, limit=3)).count(1) #'check that only one 1 is resulted'\n",
    "assert 1 == list(tracker(p, limit=3)).count(2), 'check that only one 2 is resulted'\n",
    "assert 1 == list(tracker(p, limit=3)).count(3), 'check that only one 3 is resulted'\n",
    "assert {0, 1, 2, 3} == set([0]+list(tracker(p, limit=3))), 'check without sending new limit'\n",
    "t = tracker(p, limit=3)\n",
    "assert {0, 1, 2, 3} == set([0]+list(t)), 'check .send can modify limit within loop' \n",
    "a = t.send(6)\n",
    "a = list(a)\n",
    "assert {0, 4, 5, 6} == set(a + [0]+list(t)), 'check .send can modify limit within loop' \n",
    "\n",
    "# more test\n",
    "l = [0, 1, 2, 3, 4, 5] \n",
    "li = [1, 2, 3, 4, 5] \n",
    "a = [] \n",
    "answer = [a.append(x) for x in list(tracker(p, limt=5)) if x not in a] \n",
    "assert a == l or a == li\n",
    "\n",
    "t = tracker(p, limt=3) \n",
    "t.send(5) \n",
    "l = [0, 1, 2, 3, 4, 5] \n",
    "a = [] \n",
    "answer = [a.append(x) for x in list(tracker(p, limt=5)) if x not in a] \n",
    "assert l == a or a == li "
   ]
  }
 ],
 "metadata": {
  "kernelspec": {
   "display_name": "Python 3",
   "language": "python",
   "name": "python3"
  },
  "language_info": {
   "codemirror_mode": {
    "name": "ipython",
    "version": 3
   },
   "file_extension": ".py",
   "mimetype": "text/x-python",
   "name": "python",
   "nbconvert_exporter": "python",
   "pygments_lexer": "ipython3",
   "version": "3.8.5"
  }
 },
 "nbformat": 4,
 "nbformat_minor": 4
}
