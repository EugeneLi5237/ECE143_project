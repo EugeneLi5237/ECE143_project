{
 "cells": [
  {
   "cell_type": "markdown",
   "metadata": {},
   "source": [
    "# Question 2\n",
    "Implement a sliding window for an arbitrary input list. The function should take the window width and the window increment as inputs and should produce a sequence of overlapping lists from the input list. For example, given x=list(range(15)), the following is the output given a window width of 5 and window increment of 2. [[0, 1, 2, 3, 4], [2, 3, 4, 5, 6], [4, 5, 6, 7, 8], [6, 7, 8, 9, 10], [8, 9, 10, 11, 12], [10, 11, 12, 13, 14]] In the event that the input parameters do not yield a complete set of even sublists, just truncate the ragged tail. For example, slide_window(list(range(18)),5,2) [[0, 1, 2, 3, 4], [2, 3, 4, 5, 6], [4, 5, 6, 7, 8], [6, 7, 8, 9, 10], [8, 9, 10, 11, 12], [10, 11, 12, 13, 14], [12, 13, 14, 15, 16]] Here is the function signature: slide_window(x,width,increment) where increment>0, width>0, and x is a list. \n"
   ]
  },
  {
   "cell_type": "markdown",
   "metadata": {},
   "source": [
    "Validation Test:"
   ]
  },
  {
   "cell_type": "code",
   "execution_count": null,
   "metadata": {},
   "outputs": [],
   "source": [
    "assert isinstance(x,list)\n",
    "assert isinstance(width,int) \n",
    "assert width > 0\n",
    "assert len(x) >= width > 0\n",
    "assert isinstance(increment,int) \n",
    "assert increment > 0\n",
    "# Add additional tests here"
   ]
  },
  {
   "cell_type": "markdown",
   "metadata": {},
   "source": [
    "Functional Test:"
   ]
  },
  {
   "cell_type": "code",
   "execution_count": null,
   "metadata": {},
   "outputs": [],
   "source": [
    "\n",
    "assert [[0, 1, 2, 3, 4], [2, 3, 4, 5, 6], [4, 5, 6, 7, 8], [6, 7, 8, 9, 10], [\n",
    "8, 9, 10, 11, 12], [10, 11, 12, 13, 14], [12, 13, 14, 15, 16], [14, 15, 16, 17, 18]] == slide_window(\n",
    "list(range(20)), 5, 2) # 'check truncate of extra terms'\n",
    "\n",
    "assert [[0, 1, 2, 3, 4], [2, 3, 4, 5, 6], [4, 5, 6, 7, 8], [6, 7, 8, 9, 10], [\n",
    "8, 9, 10, 11, 12], [10, 11, 12, 13, 14], [12, 13, 14, 15, 16], [14, 15, 16, 17, 18]] == slide_window(\n",
    "list(range(19)), 5, 2) # 'check output is same' \n",
    "\n",
    "# check for the case that list have none-numeric elements\n",
    "x = [1,2,'c','a','r',6,7,8,9,10] \n",
    "width = 3 \n",
    "increment = 3 \n",
    "answer = [[1, 2, 'c'], ['a', 'r', 6], [7, 8, 9]] \n",
    "assert answer==slid_window(x, width, increment) "
   ]
  },
  {
   "cell_type": "markdown",
   "metadata": {},
   "source": [
    "# Question 2 \n",
    "The Fibonacci numbers are defined by the following recursion: F[n] = F[n-1]+F[n-2] with initial values F[1]=F[0]=1. Write a generator to compute the first n Fibonacci numbers. For example, for n=10, the output for list(fibonacci(n)) should be [1,1,2,3,5,8,13,21,34,55]. "
   ]
  },
  {
   "cell_type": "markdown",
   "metadata": {},
   "source": [
    "Validation Tests:"
   ]
  },
  {
   "cell_type": "code",
   "execution_count": null,
   "metadata": {},
   "outputs": [],
   "source": [
    "assert n >= 0 \n",
    "assert isinstance(n,int)"
   ]
  },
  {
   "cell_type": "markdown",
   "metadata": {},
   "source": [
    "Functional Test: "
   ]
  },
  {
   "cell_type": "code",
   "execution_count": null,
   "metadata": {},
   "outputs": [],
   "source": [
    "a = fibonacci(5)\n",
    "assert next(a) ==1\n",
    "assert next(a) ==1\n",
    "assert next(a) ==2\n",
    "assert list(fibonacci(0)) == [1]\n",
    "assert [1, 1, 2, 3, 5, 8, 13, 21, 34, 55] == list(fibonacci(n=10)) #\"checking problem example\" "
   ]
  },
  {
   "cell_type": "markdown",
   "metadata": {},
   "source": [
    "# Question 3\n",
    "Write a function that returns the number of calendar days in a given year and month. Hint: see the calendar module in the standard library. number_of_days(year,month) Write a function to find the number of leap-years between (including both endpoints) two given years. number_of_leap_years(year1,year2) Write a function to find the string name (e.g., Monday, Tuesday) of the day of the week on a given month,day, and year. get_day_of_week(year,month,day) "
   ]
  },
  {
   "cell_type": "code",
   "execution_count": null,
   "metadata": {},
   "outputs": [],
   "source": [
    "#calendar\n",
    "#number_of_days\n",
    "#validation\n",
    "assert isinstance(year,int) \n",
    "assert year >=0\n",
    "assert isinstance(month,int) \n",
    "assert 1<=month<=12\n",
    "#number_of_leap_years\n",
    "#validation\n",
    "assert isinstance(year1,int) \n",
    "assert isinstance(year2,int)\n",
    "assert year2>=year1 >=0\n",
    "#get_day_of_week\n",
    "#validation\n",
    "assert isinstance(year,int) \n",
    "assert year >=0\n",
    "assert isinstance(month,int) \n",
    "assert 1<=month<=12\n",
    "assert isinstance(day,int) \n",
    "assert 1<= day <=number_of_days(year,month)"
   ]
  },
  {
   "cell_type": "code",
   "execution_count": null,
   "metadata": {},
   "outputs": [],
   "source": [
    "assert number_of_days(50,12) == 31\n",
    "assert number_of_days(0,1) == 31\n",
    "assert number_of_days(2000,2) == 29\n",
    "\n",
    "assert number_of_leap_years(2000,2020) == 6\n",
    "assert number_of_leap_years(0,2020) == 491\n",
    "assert number_of_leap_years(0,4020) == 976\n",
    "\n",
    "assert get_day_of_week(0,2,29) == 'Tuesday'\n",
    "assert get_day_of_week(2000,2,29) == 'Tuesday'\n",
    "assert get_day_of_week(2001,2,28) == 'Wednesday'\n",
    "assert get_day_of_week(2020,12,25) == 'Friday'"
   ]
  },
  {
   "cell_type": "markdown",
   "metadata": {},
   "source": []
  },
  {
   "cell_type": "code",
   "execution_count": null,
   "metadata": {},
   "outputs": [],
   "source": [
    "import types\n",
    "assert isinstance(p,types.GeneratorType)\n",
    "assert isinstance(limit,int) \n",
    "assert limit > 0 "
   ]
  },
  {
   "cell_type": "code",
   "execution_count": null,
   "metadata": {},
   "outputs": [],
   "source": [
    "p =producer()\n",
    "a = list(tracker(p, 3))\n",
    "assert max(a) == 3\n",
    "\n",
    "p =producer()\n",
    "a = tracker(p, 3)\n",
    "a.send(4)\n",
    "assert max(list(a)) == 4"
   ]
  },
  {
   "cell_type": "code",
   "execution_count": null,
   "metadata": {},
   "outputs": [],
   "source": [
    "assert 1 == list(tracker(p, limit=3)).count(1) # 'check that only one 1 is resulted'\n",
    "assert 1 == list(tracker(p, limit=3)).count(2) #'check that only one 2 is resulted'\n",
    "assert 1 == list(tracker(p, limit=3)).count(3) #'check that only one 3 is resulted'\n",
    "assert 1 == list(tracker(p, limit=3)).count(4) #'check that only one 1 is resulted'\n",
    "assert 1 == list(tracker(p, limit=3)).count(5) #'check that only one 2 is resulted'\n",
    "assert 1 == list(tracker(p, limit=3)).count(6) #'check that only one 3 is resulted'\n",
    "assert {0, 1, 2, 3, 4, 5, 6} == set([0]+list(t)) #'check .send can modify limit within loop' \n",
    "assert 1 == list(tracker(p, limit=3)).count(1) #'check that only one 1 is resulted'\n",
    "assert 1 == list(tracker(p, limit=3)).count(2), 'check that only one 2 is resulted'\n",
    "assert 1 == list(tracker(p, limit=3)).count(3), 'check that only one 3 is resulted'\n",
    "assert {0, 1, 2, 3} == set([0]+list(tracker(p, limit=3))), 'check without sending new limit'\n",
    "t = tracker(p, limit=3)\n",
    "assert {0, 1, 2, 3} == set([0]+list(t)), 'check .send can modify limit within loop' \n",
    "a = t.send(6)\n",
    "a = list(a)\n",
    "assert {0, 4, 5, 6} == set(a + [0]+list(t)), 'check .send can modify limit within loop' \n",
    "\n",
    "l = [0, 1, 2, 3, 4, 5] \n",
    "li = [1, 2, 3, 4, 5] \n",
    "a = [] \n",
    "answer = [a.append(x) for x in list(tracker(p, limt=5)) if x not in a] \n",
    "assert a == l or a == li\n",
    "\n",
    "t = tracker(p, limt=3) \n",
    "t.send(5) \n",
    "l = [0, 1, 2, 3, 4, 5] \n",
    "a = [] \n",
    "answer = [a.append(x) for x in list(tracker(p, limt=5)) if x not in a] \n",
    "assert l == a or a == li "
   ]
  },
  {
   "cell_type": "markdown",
   "metadata": {},
   "source": [
    "Functional Tests"
   ]
  },
  {
   "cell_type": "code",
   "execution_count": null,
   "metadata": {},
   "outputs": [],
   "source": [
    "data = \"\"\"Mary had a little lamb its fleece was white as snow and everywhere that Mary went the lamb was sure to go\"\"\"\n",
    "assert 3.818==compute_average_word_length(data), \"checking for unique=False\""
   ]
  },
  {
   "cell_type": "code",
   "execution_count": null,
   "metadata": {},
   "outputs": [],
   "source": [
    "data = \"\"\"Mary had a little lamb its fleece was white as snow and everywhere that Mary went the lamb was sure to go\"\"\"\n",
    "assert 3.8421 ==compute_average_word_length(data), \"checking for unique=True\""
   ]
  }
 ],
 "metadata": {
  "kernelspec": {
   "display_name": "Python 3",
   "language": "python",
   "name": "python3"
  },
  "language_info": {
   "codemirror_mode": {
    "name": "ipython",
    "version": 3
   },
   "file_extension": ".py",
   "mimetype": "text/x-python",
   "name": "python",
   "nbconvert_exporter": "python",
   "pygments_lexer": "ipython3",
   "version": "3.7.6"
  }
 },
 "nbformat": 4,
 "nbformat_minor": 4
}